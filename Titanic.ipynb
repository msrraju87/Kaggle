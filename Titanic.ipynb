{
  "nbformat": 4,
  "nbformat_minor": 0,
  "metadata": {
    "colab": {
      "name": "Titanic 1.ipynb",
      "provenance": [],
      "collapsed_sections": []
    },
    "kernelspec": {
      "display_name": "Python 3",
      "language": "python",
      "name": "python3"
    },
    "language_info": {
      "codemirror_mode": {
        "name": "ipython",
        "version": 3
      },
      "file_extension": ".py",
      "mimetype": "text/x-python",
      "name": "python",
      "nbconvert_exporter": "python",
      "pygments_lexer": "ipython3",
      "version": "3.8.3"
    }
  },
  "cells": [
    {
      "cell_type": "markdown",
      "metadata": {
        "id": "YoqZRu_AlPiw"
      },
      "source": [
        "# Import libraries"
      ]
    },
    {
      "cell_type": "code",
      "metadata": {
        "id": "jipeMjGJlPi5"
      },
      "source": [
        "import pandas as pd\n",
        "import numpy as np\n",
        "import matplotlib.pyplot as plt\n",
        "%matplotlib inline\n",
        "import seaborn as sns\n",
        "\n",
        "\n",
        "import warnings\n",
        "warnings.filterwarnings('ignore')\n",
        "import os"
      ],
      "execution_count": 54,
      "outputs": []
    },
    {
      "cell_type": "markdown",
      "metadata": {
        "id": "jtCAEjhAlPi7"
      },
      "source": [
        "# Input file"
      ]
    },
    {
      "cell_type": "code",
      "metadata": {
        "colab": {
          "base_uri": "https://localhost:8080/"
        },
        "id": "Ex7xZFDtmKLQ",
        "outputId": "956de11f-f2f3-4d36-bc26-15caf62ab10e"
      },
      "source": [
        "from google.colab import drive\n",
        "drive.mount('/content/drive')"
      ],
      "execution_count": 55,
      "outputs": [
        {
          "output_type": "stream",
          "name": "stdout",
          "text": [
            "Drive already mounted at /content/drive; to attempt to forcibly remount, call drive.mount(\"/content/drive\", force_remount=True).\n"
          ]
        }
      ]
    },
    {
      "cell_type": "code",
      "metadata": {
        "colab": {
          "base_uri": "https://localhost:8080/",
          "height": 35
        },
        "id": "253xAWmcmLvS",
        "outputId": "206fb222-9866-4d0f-8b50-5636fc7e5858"
      },
      "source": [
        "os.chdir('/content/drive/My Drive/Kaggle')\n",
        "os.getcwd()"
      ],
      "execution_count": 56,
      "outputs": [
        {
          "output_type": "execute_result",
          "data": {
            "application/vnd.google.colaboratory.intrinsic+json": {
              "type": "string"
            },
            "text/plain": [
              "'/content/drive/My Drive/Kaggle'"
            ]
          },
          "metadata": {},
          "execution_count": 56
        }
      ]
    },
    {
      "cell_type": "code",
      "metadata": {
        "id": "5kcJFa_MmZL6"
      },
      "source": [
        "input_file = pd.read_csv('train.csv')"
      ],
      "execution_count": 57,
      "outputs": []
    },
    {
      "cell_type": "code",
      "metadata": {
        "colab": {
          "base_uri": "https://localhost:8080/",
          "height": 206
        },
        "id": "jWn35sWglPi9",
        "outputId": "0778662c-c55a-4c9c-81cb-34eab4ee59e5"
      },
      "source": [
        "input_file.head()"
      ],
      "execution_count": 58,
      "outputs": [
        {
          "output_type": "execute_result",
          "data": {
            "text/html": [
              "<div>\n",
              "<style scoped>\n",
              "    .dataframe tbody tr th:only-of-type {\n",
              "        vertical-align: middle;\n",
              "    }\n",
              "\n",
              "    .dataframe tbody tr th {\n",
              "        vertical-align: top;\n",
              "    }\n",
              "\n",
              "    .dataframe thead th {\n",
              "        text-align: right;\n",
              "    }\n",
              "</style>\n",
              "<table border=\"1\" class=\"dataframe\">\n",
              "  <thead>\n",
              "    <tr style=\"text-align: right;\">\n",
              "      <th></th>\n",
              "      <th>PassengerId</th>\n",
              "      <th>Survived</th>\n",
              "      <th>Pclass</th>\n",
              "      <th>Name</th>\n",
              "      <th>Sex</th>\n",
              "      <th>Age</th>\n",
              "      <th>SibSp</th>\n",
              "      <th>Parch</th>\n",
              "      <th>Ticket</th>\n",
              "      <th>Fare</th>\n",
              "      <th>Cabin</th>\n",
              "      <th>Embarked</th>\n",
              "    </tr>\n",
              "  </thead>\n",
              "  <tbody>\n",
              "    <tr>\n",
              "      <th>0</th>\n",
              "      <td>1</td>\n",
              "      <td>0</td>\n",
              "      <td>3</td>\n",
              "      <td>Braund, Mr. Owen Harris</td>\n",
              "      <td>male</td>\n",
              "      <td>22.0</td>\n",
              "      <td>1</td>\n",
              "      <td>0</td>\n",
              "      <td>A/5 21171</td>\n",
              "      <td>7.2500</td>\n",
              "      <td>NaN</td>\n",
              "      <td>S</td>\n",
              "    </tr>\n",
              "    <tr>\n",
              "      <th>1</th>\n",
              "      <td>2</td>\n",
              "      <td>1</td>\n",
              "      <td>1</td>\n",
              "      <td>Cumings, Mrs. John Bradley (Florence Briggs Th...</td>\n",
              "      <td>female</td>\n",
              "      <td>38.0</td>\n",
              "      <td>1</td>\n",
              "      <td>0</td>\n",
              "      <td>PC 17599</td>\n",
              "      <td>71.2833</td>\n",
              "      <td>C85</td>\n",
              "      <td>C</td>\n",
              "    </tr>\n",
              "    <tr>\n",
              "      <th>2</th>\n",
              "      <td>3</td>\n",
              "      <td>1</td>\n",
              "      <td>3</td>\n",
              "      <td>Heikkinen, Miss. Laina</td>\n",
              "      <td>female</td>\n",
              "      <td>26.0</td>\n",
              "      <td>0</td>\n",
              "      <td>0</td>\n",
              "      <td>STON/O2. 3101282</td>\n",
              "      <td>7.9250</td>\n",
              "      <td>NaN</td>\n",
              "      <td>S</td>\n",
              "    </tr>\n",
              "    <tr>\n",
              "      <th>3</th>\n",
              "      <td>4</td>\n",
              "      <td>1</td>\n",
              "      <td>1</td>\n",
              "      <td>Futrelle, Mrs. Jacques Heath (Lily May Peel)</td>\n",
              "      <td>female</td>\n",
              "      <td>35.0</td>\n",
              "      <td>1</td>\n",
              "      <td>0</td>\n",
              "      <td>113803</td>\n",
              "      <td>53.1000</td>\n",
              "      <td>C123</td>\n",
              "      <td>S</td>\n",
              "    </tr>\n",
              "    <tr>\n",
              "      <th>4</th>\n",
              "      <td>5</td>\n",
              "      <td>0</td>\n",
              "      <td>3</td>\n",
              "      <td>Allen, Mr. William Henry</td>\n",
              "      <td>male</td>\n",
              "      <td>35.0</td>\n",
              "      <td>0</td>\n",
              "      <td>0</td>\n",
              "      <td>373450</td>\n",
              "      <td>8.0500</td>\n",
              "      <td>NaN</td>\n",
              "      <td>S</td>\n",
              "    </tr>\n",
              "  </tbody>\n",
              "</table>\n",
              "</div>"
            ],
            "text/plain": [
              "   PassengerId  Survived  Pclass  ...     Fare Cabin  Embarked\n",
              "0            1         0       3  ...   7.2500   NaN         S\n",
              "1            2         1       1  ...  71.2833   C85         C\n",
              "2            3         1       3  ...   7.9250   NaN         S\n",
              "3            4         1       1  ...  53.1000  C123         S\n",
              "4            5         0       3  ...   8.0500   NaN         S\n",
              "\n",
              "[5 rows x 12 columns]"
            ]
          },
          "metadata": {},
          "execution_count": 58
        }
      ]
    },
    {
      "cell_type": "markdown",
      "metadata": {
        "id": "P38ttay-lPi_"
      },
      "source": [
        "# EDA"
      ]
    },
    {
      "cell_type": "markdown",
      "metadata": {
        "id": "f7fVy-MzlPi_"
      },
      "source": [
        "Let's see if passenger class has any impact on the sruvival"
      ]
    },
    {
      "cell_type": "code",
      "metadata": {
        "colab": {
          "base_uri": "https://localhost:8080/",
          "height": 269
        },
        "id": "D6da7sEllPjA",
        "outputId": "89a2b59b-8b0c-47b9-c9a8-31f73be35143"
      },
      "source": [
        "input_file.describe().transpose()"
      ],
      "execution_count": 59,
      "outputs": [
        {
          "output_type": "execute_result",
          "data": {
            "text/html": [
              "<div>\n",
              "<style scoped>\n",
              "    .dataframe tbody tr th:only-of-type {\n",
              "        vertical-align: middle;\n",
              "    }\n",
              "\n",
              "    .dataframe tbody tr th {\n",
              "        vertical-align: top;\n",
              "    }\n",
              "\n",
              "    .dataframe thead th {\n",
              "        text-align: right;\n",
              "    }\n",
              "</style>\n",
              "<table border=\"1\" class=\"dataframe\">\n",
              "  <thead>\n",
              "    <tr style=\"text-align: right;\">\n",
              "      <th></th>\n",
              "      <th>count</th>\n",
              "      <th>mean</th>\n",
              "      <th>std</th>\n",
              "      <th>min</th>\n",
              "      <th>25%</th>\n",
              "      <th>50%</th>\n",
              "      <th>75%</th>\n",
              "      <th>max</th>\n",
              "    </tr>\n",
              "  </thead>\n",
              "  <tbody>\n",
              "    <tr>\n",
              "      <th>PassengerId</th>\n",
              "      <td>891.0</td>\n",
              "      <td>446.000000</td>\n",
              "      <td>257.353842</td>\n",
              "      <td>1.00</td>\n",
              "      <td>223.5000</td>\n",
              "      <td>446.0000</td>\n",
              "      <td>668.5</td>\n",
              "      <td>891.0000</td>\n",
              "    </tr>\n",
              "    <tr>\n",
              "      <th>Survived</th>\n",
              "      <td>891.0</td>\n",
              "      <td>0.383838</td>\n",
              "      <td>0.486592</td>\n",
              "      <td>0.00</td>\n",
              "      <td>0.0000</td>\n",
              "      <td>0.0000</td>\n",
              "      <td>1.0</td>\n",
              "      <td>1.0000</td>\n",
              "    </tr>\n",
              "    <tr>\n",
              "      <th>Pclass</th>\n",
              "      <td>891.0</td>\n",
              "      <td>2.308642</td>\n",
              "      <td>0.836071</td>\n",
              "      <td>1.00</td>\n",
              "      <td>2.0000</td>\n",
              "      <td>3.0000</td>\n",
              "      <td>3.0</td>\n",
              "      <td>3.0000</td>\n",
              "    </tr>\n",
              "    <tr>\n",
              "      <th>Age</th>\n",
              "      <td>714.0</td>\n",
              "      <td>29.699118</td>\n",
              "      <td>14.526497</td>\n",
              "      <td>0.42</td>\n",
              "      <td>20.1250</td>\n",
              "      <td>28.0000</td>\n",
              "      <td>38.0</td>\n",
              "      <td>80.0000</td>\n",
              "    </tr>\n",
              "    <tr>\n",
              "      <th>SibSp</th>\n",
              "      <td>891.0</td>\n",
              "      <td>0.523008</td>\n",
              "      <td>1.102743</td>\n",
              "      <td>0.00</td>\n",
              "      <td>0.0000</td>\n",
              "      <td>0.0000</td>\n",
              "      <td>1.0</td>\n",
              "      <td>8.0000</td>\n",
              "    </tr>\n",
              "    <tr>\n",
              "      <th>Parch</th>\n",
              "      <td>891.0</td>\n",
              "      <td>0.381594</td>\n",
              "      <td>0.806057</td>\n",
              "      <td>0.00</td>\n",
              "      <td>0.0000</td>\n",
              "      <td>0.0000</td>\n",
              "      <td>0.0</td>\n",
              "      <td>6.0000</td>\n",
              "    </tr>\n",
              "    <tr>\n",
              "      <th>Fare</th>\n",
              "      <td>891.0</td>\n",
              "      <td>32.204208</td>\n",
              "      <td>49.693429</td>\n",
              "      <td>0.00</td>\n",
              "      <td>7.9104</td>\n",
              "      <td>14.4542</td>\n",
              "      <td>31.0</td>\n",
              "      <td>512.3292</td>\n",
              "    </tr>\n",
              "  </tbody>\n",
              "</table>\n",
              "</div>"
            ],
            "text/plain": [
              "             count        mean         std  ...       50%    75%       max\n",
              "PassengerId  891.0  446.000000  257.353842  ...  446.0000  668.5  891.0000\n",
              "Survived     891.0    0.383838    0.486592  ...    0.0000    1.0    1.0000\n",
              "Pclass       891.0    2.308642    0.836071  ...    3.0000    3.0    3.0000\n",
              "Age          714.0   29.699118   14.526497  ...   28.0000   38.0   80.0000\n",
              "SibSp        891.0    0.523008    1.102743  ...    0.0000    1.0    8.0000\n",
              "Parch        891.0    0.381594    0.806057  ...    0.0000    0.0    6.0000\n",
              "Fare         891.0   32.204208   49.693429  ...   14.4542   31.0  512.3292\n",
              "\n",
              "[7 rows x 8 columns]"
            ]
          },
          "metadata": {},
          "execution_count": 59
        }
      ]
    },
    {
      "cell_type": "code",
      "metadata": {
        "colab": {
          "base_uri": "https://localhost:8080/"
        },
        "id": "xq7pcjrcIPac",
        "outputId": "527ab679-dbbb-4e1b-fed8-6afa61caae27"
      },
      "source": [
        "input_file['Survived'].value_counts()"
      ],
      "execution_count": 60,
      "outputs": [
        {
          "output_type": "execute_result",
          "data": {
            "text/plain": [
              "0    549\n",
              "1    342\n",
              "Name: Survived, dtype: int64"
            ]
          },
          "metadata": {},
          "execution_count": 60
        }
      ]
    },
    {
      "cell_type": "code",
      "metadata": {
        "colab": {
          "base_uri": "https://localhost:8080/",
          "height": 279
        },
        "id": "7EqTe9s6lPjA",
        "outputId": "599d899d-3432-4bcd-ace4-c79d27193407"
      },
      "source": [
        "sns.barplot('Pclass','Survived',data=input_file);"
      ],
      "execution_count": 61,
      "outputs": [
        {
          "output_type": "display_data",
          "data": {
            "image/png": "[encoded data removed]",
            "text/plain": [
              "<Figure size 432x288 with 1 Axes>"
            ]
          },
          "metadata": {
            "needs_background": "light"
          }
        }
      ]
    },
    {
      "cell_type": "markdown",
      "metadata": {
        "id": "qwee-F4glPjB"
      },
      "source": [
        "We can clearly see that passenger class does have an impact on the survival"
      ]
    },
    {
      "cell_type": "markdown",
      "metadata": {
        "id": "RE_MHxktlPjB"
      },
      "source": [
        "Let's now see if gender impacted the survival"
      ]
    },
    {
      "cell_type": "code",
      "metadata": {
        "colab": {
          "base_uri": "https://localhost:8080/",
          "height": 279
        },
        "id": "jk0n83PelPjB",
        "outputId": "24e06be3-0ed1-484f-cddd-7d21b6524981"
      },
      "source": [
        "sns.barplot('Sex','Survived',data=input_file);"
      ],
      "execution_count": 62,
      "outputs": [
        {
          "output_type": "display_data",
          "data": {
            "image/png": "[encoded data removed]",
            "text/plain": [
              "<Figure size 432x288 with 1 Axes>"
            ]
          },
          "metadata": {
            "needs_background": "light"
          }
        }
      ]
    },
    {
      "cell_type": "markdown",
      "metadata": {
        "id": "n7wrZ5n-lPjC"
      },
      "source": [
        "Gender does have an impact on survival"
      ]
    },
    {
      "cell_type": "markdown",
      "metadata": {
        "id": "2_7awRWAlPjC"
      },
      "source": [
        "Let's now see the impact of age on survival"
      ]
    },
    {
      "cell_type": "code",
      "metadata": {
        "colab": {
          "base_uri": "https://localhost:8080/",
          "height": 279
        },
        "id": "B_82BhpUlPjC",
        "outputId": "4c10e900-0dc8-45fe-c480-2c5f0949a389"
      },
      "source": [
        "sns.barplot('Survived','Age',data=input_file);"
      ],
      "execution_count": 63,
      "outputs": [
        {
          "output_type": "display_data",
          "data": {
            "image/png": "[encoded data removed]",
            "text/plain": [
              "<Figure size 432x288 with 1 Axes>"
            ]
          },
          "metadata": {
            "needs_background": "light"
          }
        }
      ]
    },
    {
      "cell_type": "markdown",
      "metadata": {
        "id": "yOq04Dr8lPjD"
      },
      "source": [
        "The age of those survived was on an average slightly less than that of those who didn't survive"
      ]
    },
    {
      "cell_type": "markdown",
      "metadata": {
        "id": "EjoxwcWxlPjD"
      },
      "source": [
        "Let's now look at the impact of siblings and spouse and parents and children on survival"
      ]
    },
    {
      "cell_type": "code",
      "metadata": {
        "colab": {
          "base_uri": "https://localhost:8080/",
          "height": 283
        },
        "id": "kwyolPHXlPjD",
        "outputId": "9a0622f1-1db2-4ab9-f2c5-9819d35d636b"
      },
      "source": [
        "sns.barplot('Survived','SibSp',data=input_file);"
      ],
      "execution_count": 64,
      "outputs": [
        {
          "output_type": "display_data",
          "data": {
            "image/png": "[encoded data removed]",
            "text/plain": [
              "<Figure size 432x288 with 1 Axes>"
            ]
          },
          "metadata": {
            "needs_background": "light"
          }
        }
      ]
    },
    {
      "cell_type": "markdown",
      "metadata": {
        "id": "XKHBX7r9lPjE"
      },
      "source": [
        "The people who survived had fewer siblings and spouses than those who didn't survive"
      ]
    },
    {
      "cell_type": "code",
      "metadata": {
        "colab": {
          "base_uri": "https://localhost:8080/",
          "height": 279
        },
        "id": "ZSHDSLVClPjE",
        "outputId": "94b4e7ac-ac0a-40fd-c209-7308f7120a9b"
      },
      "source": [
        "sns.barplot('Survived','Parch',data=input_file);"
      ],
      "execution_count": 65,
      "outputs": [
        {
          "output_type": "display_data",
          "data": {
            "image/png": "[encoded data removed]",
            "text/plain": [
              "<Figure size 432x288 with 1 Axes>"
            ]
          },
          "metadata": {
            "needs_background": "light"
          }
        }
      ]
    },
    {
      "cell_type": "markdown",
      "metadata": {
        "id": "DZ5vdpdclPjE"
      },
      "source": [
        "The people who survived had more parents and children than those who didn't survive"
      ]
    },
    {
      "cell_type": "markdown",
      "metadata": {
        "id": "n8JclDLrlPjE"
      },
      "source": [
        "Let's next look at Fare variable"
      ]
    },
    {
      "cell_type": "code",
      "metadata": {
        "colab": {
          "base_uri": "https://localhost:8080/",
          "height": 279
        },
        "id": "55iKSAcjlPjE",
        "outputId": "13ea100b-423d-4879-a756-e6f45125d846"
      },
      "source": [
        "sns.barplot('Survived','Fare',data=input_file);"
      ],
      "execution_count": 66,
      "outputs": [
        {
          "output_type": "display_data",
          "data": {
            "image/png": "[encoded data removed]",
            "text/plain": [
              "<Figure size 432x288 with 1 Axes>"
            ]
          },
          "metadata": {
            "needs_background": "light"
          }
        }
      ]
    },
    {
      "cell_type": "markdown",
      "metadata": {
        "id": "8qv8o3DIlPjF"
      },
      "source": [
        "The people who survived paid a higher fare than those who didn't"
      ]
    },
    {
      "cell_type": "markdown",
      "metadata": {
        "id": "5qy_8-yslPjF"
      },
      "source": [
        "Let's now look at Embarked"
      ]
    },
    {
      "cell_type": "code",
      "metadata": {
        "colab": {
          "base_uri": "https://localhost:8080/",
          "height": 279
        },
        "id": "mAgJ1E9JlPjF",
        "outputId": "4ac33b08-4b96-4968-8b7e-0e0f57040f00"
      },
      "source": [
        "sns.barplot('Embarked','Survived',data=input_file);"
      ],
      "execution_count": 67,
      "outputs": [
        {
          "output_type": "display_data",
          "data": {
            "image/png": "[encoded data removed]",
            "text/plain": [
              "<Figure size 432x288 with 1 Axes>"
            ]
          },
          "metadata": {
            "needs_background": "light"
          }
        }
      ]
    },
    {
      "cell_type": "markdown",
      "metadata": {
        "id": "k5ejT9yWlPjF"
      },
      "source": [
        "We can see that embarked does have an impact on survival"
      ]
    },
    {
      "cell_type": "markdown",
      "metadata": {
        "id": "bohVyZNLlPjF"
      },
      "source": [
        "Let's next build a pipeline that takes care of preprocessing of the input file"
      ]
    },
    {
      "cell_type": "code",
      "metadata": {
        "id": "nPwO1DZklPjG"
      },
      "source": [
        "from sklearn.base import BaseEstimator,TransformerMixin\n",
        "from sklearn.preprocessing import MinMaxScaler"
      ],
      "execution_count": 158,
      "outputs": []
    },
    {
      "cell_type": "code",
      "metadata": {
        "id": "5gfoVXIylPjG"
      },
      "source": [
        "class PreProcess(BaseEstimator, TransformerMixin):\n",
        "    \n",
        "    def fit(self,X,y=None):\n",
        "        return self\n",
        "    \n",
        "    def transform(self,X,y=None):\n",
        "        df = X.copy()\n",
        "        \n",
        "        # We will drop cols that don't add value\n",
        "        drop_cols = ['PassengerId','Ticket','Cabin']\n",
        "        df.drop(drop_cols,axis=1,inplace=True)\n",
        "        \n",
        "        # Let's impute the cols with missing vals\n",
        "        df['Age'] = df['Age'].fillna(df['Age'].mean())\n",
        "        df['Fare'] = df['Fare'].fillna(df['Fare'].mean())\n",
        "        df['Embarked'] = df['Embarked'].fillna(df['Embarked'].mode())\n",
        "        \n",
        "        #Let's process the name variable\n",
        "\n",
        "        def title_clean(x):\n",
        "          if x in [\"Mr.\",\"Miss.\",\"Mrs.\",\"Master.\"]:\n",
        "            return x\n",
        "          else:\n",
        "            return \"Others.\"\n",
        "\n",
        "        df['Name'] = df['Name'].apply(lambda x:x.split(',')[1].split()[0])\n",
        "        df['Name'] = df['Name'].apply(title_clean)\n",
        "\n",
        "        #Let's now one hot encode the cat variables\n",
        "        df = pd.get_dummies(df,columns=['Sex','Embarked','Name'])\n",
        "\n",
        "        #Normalize\n",
        "        #df['Age'] = np.log(df['Age']+10)\n",
        "        df['Fare'] = np.log(df['Fare']+10)\n",
        "\n",
        "        df = MinMaxScaler().fit_transform(df)\n",
        "        \n",
        "        return df"
      ],
      "execution_count": 159,
      "outputs": []
    },
    {
      "cell_type": "markdown",
      "metadata": {
        "id": "ijuSGcSKlPjG"
      },
      "source": [
        "Train test split"
      ]
    },
    {
      "cell_type": "code",
      "metadata": {
        "id": "zQ6Lp8yLlPjG"
      },
      "source": [
        "from sklearn.pipeline import Pipeline\n",
        "from sklearn.model_selection import train_test_split"
      ],
      "execution_count": 160,
      "outputs": []
    },
    {
      "cell_type": "code",
      "metadata": {
        "id": "03XpoXKilPjG"
      },
      "source": [
        "X = input_file.drop('Survived',axis=1)\n",
        "y = input_file['Survived']\n",
        "X_train, X_test, y_train, y_test = train_test_split(X, y, test_size=0.33, random_state=42)"
      ],
      "execution_count": 161,
      "outputs": []
    },
    {
      "cell_type": "code",
      "metadata": {
        "id": "6ORb10jYlPjH"
      },
      "source": [
        "preprocess = PreProcess()"
      ],
      "execution_count": 162,
      "outputs": []
    },
    {
      "cell_type": "code",
      "metadata": {
        "colab": {
          "base_uri": "https://localhost:8080/"
        },
        "id": "2t2HfIDzlPjH",
        "outputId": "c22e464a-e44f-4c44-fc24-783afc485a53"
      },
      "source": [
        "preprocess.fit_transform(X_train)"
      ],
      "execution_count": 163,
      "outputs": [
        {
          "output_type": "execute_result",
          "data": {
            "text/plain": [
              "array([[0.        , 0.67328474, 0.        , ..., 1.        , 0.        ,\n",
              "        0.        ],\n",
              "       [1.        , 0.36574495, 0.        , ..., 1.        , 0.        ,\n",
              "        0.        ],\n",
              "       [0.5       , 0.30887158, 0.125     , ..., 1.        , 0.        ,\n",
              "        0.        ],\n",
              "       ...,\n",
              "       [1.        , 0.50992712, 0.25      , ..., 1.        , 0.        ,\n",
              "        0.        ],\n",
              "       [0.        , 0.17064589, 0.125     , ..., 0.        , 0.        ,\n",
              "        0.        ],\n",
              "       [0.        , 0.25860769, 0.        , ..., 1.        , 0.        ,\n",
              "        0.        ]])"
            ]
          },
          "metadata": {},
          "execution_count": 163
        }
      ]
    },
    {
      "cell_type": "markdown",
      "metadata": {
        "id": "y9BBgeJzlPjH"
      },
      "source": [
        "Let's now start building models"
      ]
    },
    {
      "cell_type": "code",
      "metadata": {
        "id": "8b2vWGqllPjH"
      },
      "source": [
        "from sklearn.model_selection import GridSearchCV"
      ],
      "execution_count": 164,
      "outputs": []
    },
    {
      "cell_type": "markdown",
      "metadata": {
        "id": "gyYJ82pxlPjH"
      },
      "source": [
        "# Logistic Regression"
      ]
    },
    {
      "cell_type": "code",
      "metadata": {
        "id": "9KU3JoaQlPjH"
      },
      "source": [
        "from sklearn.linear_model import LogisticRegression"
      ],
      "execution_count": 165,
      "outputs": []
    },
    {
      "cell_type": "code",
      "metadata": {
        "id": "iPszHm8XlPjI"
      },
      "source": [
        "pipe_lr = Pipeline([('pre',PreProcess()),('lr',LogisticRegression(random_state=42))])"
      ],
      "execution_count": 166,
      "outputs": []
    },
    {
      "cell_type": "code",
      "metadata": {
        "id": "gikst8xnlPjI"
      },
      "source": [
        "param_lr = {'lr__C':[.001, 0.01, 0.1, 1, 10, 100]}"
      ],
      "execution_count": 167,
      "outputs": []
    },
    {
      "cell_type": "code",
      "metadata": {
        "id": "3D8Z2lkOlPjI"
      },
      "source": [
        "grid_lr = GridSearchCV(pipe_lr,param_grid=param_lr)"
      ],
      "execution_count": 168,
      "outputs": []
    },
    {
      "cell_type": "code",
      "metadata": {
        "colab": {
          "base_uri": "https://localhost:8080/"
        },
        "id": "w3nAHp9ilPjI",
        "outputId": "c8cfc9c0-8037-45ef-f5d2-fe423e5e6075"
      },
      "source": [
        "grid_lr.fit(X_train,y_train)"
      ],
      "execution_count": 169,
      "outputs": [
        {
          "output_type": "execute_result",
          "data": {
            "text/plain": [
              "GridSearchCV(cv=None, error_score=nan,\n",
              "             estimator=Pipeline(memory=None,\n",
              "                                steps=[('pre', PreProcess()),\n",
              "                                       ('lr',\n",
              "                                        LogisticRegression(C=1.0,\n",
              "                                                           class_weight=None,\n",
              "                                                           dual=False,\n",
              "                                                           fit_intercept=True,\n",
              "                                                           intercept_scaling=1,\n",
              "                                                           l1_ratio=None,\n",
              "                                                           max_iter=100,\n",
              "                                                           multi_class='auto',\n",
              "                                                           n_jobs=None,\n",
              "                                                           penalty='l2',\n",
              "                                                           random_state=42,\n",
              "                                                           solver='lbfgs',\n",
              "                                                           tol=0.0001,\n",
              "                                                           verbose=0,\n",
              "                                                           warm_start=False))],\n",
              "                                verbose=False),\n",
              "             iid='deprecated', n_jobs=None,\n",
              "             param_grid={'lr__C': [0.001, 0.01, 0.1, 1, 10, 100]},\n",
              "             pre_dispatch='2*n_jobs', refit=True, return_train_score=False,\n",
              "             scoring=None, verbose=0)"
            ]
          },
          "metadata": {},
          "execution_count": 169
        }
      ]
    },
    {
      "cell_type": "code",
      "metadata": {
        "colab": {
          "base_uri": "https://localhost:8080/"
        },
        "id": "TNpSLS34lPjI",
        "outputId": "5e12b357-e5c9-4eb5-caf2-031abd859f0c"
      },
      "source": [
        "grid_lr.best_params_"
      ],
      "execution_count": 170,
      "outputs": [
        {
          "output_type": "execute_result",
          "data": {
            "text/plain": [
              "{'lr__C': 1}"
            ]
          },
          "metadata": {},
          "execution_count": 170
        }
      ]
    },
    {
      "cell_type": "code",
      "metadata": {
        "colab": {
          "base_uri": "https://localhost:8080/"
        },
        "id": "X0B7A_uylPjI",
        "outputId": "db7f20d2-2eb8-4df2-cffe-80db38046447"
      },
      "source": [
        "grid_lr.best_score_"
      ],
      "execution_count": 171,
      "outputs": [
        {
          "output_type": "execute_result",
          "data": {
            "text/plain": [
              "0.8138655462184874"
            ]
          },
          "metadata": {},
          "execution_count": 171
        }
      ]
    },
    {
      "cell_type": "markdown",
      "metadata": {
        "id": "UrSsLCrClPjJ"
      },
      "source": [
        "# Naive Baye's"
      ]
    },
    {
      "cell_type": "code",
      "metadata": {
        "id": "BnYVofZhlPjJ"
      },
      "source": [
        "from sklearn.naive_bayes import GaussianNB"
      ],
      "execution_count": 172,
      "outputs": []
    },
    {
      "cell_type": "code",
      "metadata": {
        "id": "yT96jIDDlPjJ"
      },
      "source": [
        "pipe_nb = Pipeline([('pre',PreProcess()),('nb',GaussianNB())])"
      ],
      "execution_count": 173,
      "outputs": []
    },
    {
      "cell_type": "code",
      "metadata": {
        "colab": {
          "base_uri": "https://localhost:8080/"
        },
        "id": "tRy1bvj2lPjJ",
        "outputId": "391419c5-4972-4eab-bcba-390fb8e94e45"
      },
      "source": [
        "pipe_nb.fit(X_train,y_train)"
      ],
      "execution_count": 174,
      "outputs": [
        {
          "output_type": "execute_result",
          "data": {
            "text/plain": [
              "Pipeline(memory=None,\n",
              "         steps=[('pre', PreProcess()),\n",
              "                ('nb', GaussianNB(priors=None, var_smoothing=1e-09))],\n",
              "         verbose=False)"
            ]
          },
          "metadata": {},
          "execution_count": 174
        }
      ]
    },
    {
      "cell_type": "code",
      "metadata": {
        "colab": {
          "base_uri": "https://localhost:8080/"
        },
        "id": "-j3CwDfolPjJ",
        "outputId": "c7d99734-6011-4ee7-a83f-98f16a836cc0"
      },
      "source": [
        "print(pipe_nb.score(X_train,y_train))\n",
        "print(pipe_nb.score(X_test,y_test))"
      ],
      "execution_count": 175,
      "outputs": [
        {
          "output_type": "stream",
          "name": "stdout",
          "text": [
            "0.7969798657718121\n",
            "0.8033898305084746\n"
          ]
        }
      ]
    },
    {
      "cell_type": "markdown",
      "metadata": {
        "id": "zJKd9LYwlPjJ"
      },
      "source": [
        "Naive baye's performed slightly better"
      ]
    },
    {
      "cell_type": "markdown",
      "metadata": {
        "id": "Zb19oObNlPjJ"
      },
      "source": [
        "# Support Vector Machines"
      ]
    },
    {
      "cell_type": "code",
      "metadata": {
        "id": "9H0flcu7lPjJ"
      },
      "source": [
        "from sklearn.svm import SVC"
      ],
      "execution_count": 176,
      "outputs": []
    },
    {
      "cell_type": "code",
      "metadata": {
        "id": "TcgIagSclPjK"
      },
      "source": [
        "pipe_svc = Pipeline([('pre',PreProcess()),('svc',SVC(random_state=42))])"
      ],
      "execution_count": 177,
      "outputs": []
    },
    {
      "cell_type": "code",
      "metadata": {
        "id": "qEpVbHtXlPjK"
      },
      "source": [
        "param_svc = {'svc__C':[.001, 0.01, 0.1, 1, 10, 100],'svc__gamma':[.001, 0.01, 0.1, 1, 10, 100]}"
      ],
      "execution_count": 178,
      "outputs": []
    },
    {
      "cell_type": "code",
      "metadata": {
        "id": "BnR7SW99lPjK"
      },
      "source": [
        "grid_svc= GridSearchCV(pipe_svc,param_grid=param_svc)"
      ],
      "execution_count": 179,
      "outputs": []
    },
    {
      "cell_type": "code",
      "metadata": {
        "colab": {
          "base_uri": "https://localhost:8080/"
        },
        "id": "noqg3biqlPjK",
        "outputId": "f5c0fc42-9197-46de-c9cf-151098257c22"
      },
      "source": [
        "grid_svc.fit(X_train,y_train)"
      ],
      "execution_count": 180,
      "outputs": [
        {
          "output_type": "execute_result",
          "data": {
            "text/plain": [
              "GridSearchCV(cv=None, error_score=nan,\n",
              "             estimator=Pipeline(memory=None,\n",
              "                                steps=[('pre', PreProcess()),\n",
              "                                       ('svc',\n",
              "                                        SVC(C=1.0, break_ties=False,\n",
              "                                            cache_size=200, class_weight=None,\n",
              "                                            coef0=0.0,\n",
              "                                            decision_function_shape='ovr',\n",
              "                                            degree=3, gamma='scale',\n",
              "                                            kernel='rbf', max_iter=-1,\n",
              "                                            probability=False, random_state=42,\n",
              "                                            shrinking=True, tol=0.001,\n",
              "                                            verbose=False))],\n",
              "                                verbose=False),\n",
              "             iid='deprecated', n_jobs=None,\n",
              "             param_grid={'svc__C': [0.001, 0.01, 0.1, 1, 10, 100],\n",
              "                         'svc__gamma': [0.001, 0.01, 0.1, 1, 10, 100]},\n",
              "             pre_dispatch='2*n_jobs', refit=True, return_train_score=False,\n",
              "             scoring=None, verbose=0)"
            ]
          },
          "metadata": {},
          "execution_count": 180
        }
      ]
    },
    {
      "cell_type": "code",
      "metadata": {
        "colab": {
          "base_uri": "https://localhost:8080/"
        },
        "id": "7TOFTv5slPjK",
        "outputId": "f2e54c3e-df3c-40ad-f290-ea241d9c31e0"
      },
      "source": [
        "grid_svc.best_params_"
      ],
      "execution_count": 181,
      "outputs": [
        {
          "output_type": "execute_result",
          "data": {
            "text/plain": [
              "{'svc__C': 10, 'svc__gamma': 0.1}"
            ]
          },
          "metadata": {},
          "execution_count": 181
        }
      ]
    },
    {
      "cell_type": "code",
      "metadata": {
        "colab": {
          "base_uri": "https://localhost:8080/"
        },
        "id": "ox3oKHr1lPjK",
        "outputId": "4fee9312-0903-43d3-9c3f-90aedaf47251"
      },
      "source": [
        "grid_svc.best_score_"
      ],
      "execution_count": 182,
      "outputs": [
        {
          "output_type": "execute_result",
          "data": {
            "text/plain": [
              "0.8356442577030812"
            ]
          },
          "metadata": {},
          "execution_count": 182
        }
      ]
    },
    {
      "cell_type": "markdown",
      "metadata": {
        "id": "e0WMc5AilPjK"
      },
      "source": [
        "# KNN"
      ]
    },
    {
      "cell_type": "code",
      "metadata": {
        "id": "x35XkM9XlPjL"
      },
      "source": [
        "from sklearn.neighbors import KNeighborsClassifier"
      ],
      "execution_count": 183,
      "outputs": []
    },
    {
      "cell_type": "code",
      "metadata": {
        "id": "iZKjkqfnlPjL"
      },
      "source": [
        "pipe_knn = Pipeline([('pre',PreProcess()),('knn',KNeighborsClassifier())])"
      ],
      "execution_count": 184,
      "outputs": []
    },
    {
      "cell_type": "code",
      "metadata": {
        "id": "qfxRIzztlPjL"
      },
      "source": [
        "param_knn = {'knn__n_neighbors':[1,2,3,4,5,6,7,8,9,10],'knn__weights':['uniform', 'distance'],'knn__metric':['manhattan','minkowski','euclidean']}"
      ],
      "execution_count": 185,
      "outputs": []
    },
    {
      "cell_type": "code",
      "metadata": {
        "id": "dM09ihaalPjL"
      },
      "source": [
        "grid_knn= GridSearchCV(pipe_knn,param_grid=param_knn)"
      ],
      "execution_count": 186,
      "outputs": []
    },
    {
      "cell_type": "code",
      "metadata": {
        "colab": {
          "base_uri": "https://localhost:8080/"
        },
        "id": "AE68DA5FlPjL",
        "outputId": "9ef17b44-4eff-4f27-a339-65573932d136"
      },
      "source": [
        "grid_knn.fit(X_train,y_train)"
      ],
      "execution_count": 187,
      "outputs": [
        {
          "output_type": "execute_result",
          "data": {
            "text/plain": [
              "GridSearchCV(cv=None, error_score=nan,\n",
              "             estimator=Pipeline(memory=None,\n",
              "                                steps=[('pre', PreProcess()),\n",
              "                                       ('knn',\n",
              "                                        KNeighborsClassifier(algorithm='auto',\n",
              "                                                             leaf_size=30,\n",
              "                                                             metric='minkowski',\n",
              "                                                             metric_params=None,\n",
              "                                                             n_jobs=None,\n",
              "                                                             n_neighbors=5, p=2,\n",
              "                                                             weights='uniform'))],\n",
              "                                verbose=False),\n",
              "             iid='deprecated', n_jobs=None,\n",
              "             param_grid={'knn__metric': ['manhattan', 'minkowski', 'euclidean'],\n",
              "                         'knn__n_neighbors': [1, 2, 3, 4, 5, 6, 7, 8, 9, 10],\n",
              "                         'knn__weights': ['uniform', 'distance']},\n",
              "             pre_dispatch='2*n_jobs', refit=True, return_train_score=False,\n",
              "             scoring=None, verbose=0)"
            ]
          },
          "metadata": {},
          "execution_count": 187
        }
      ]
    },
    {
      "cell_type": "code",
      "metadata": {
        "colab": {
          "base_uri": "https://localhost:8080/"
        },
        "id": "YEQ-pW4_lPjL",
        "outputId": "4e22d56d-4556-484e-ce6d-ac2a64aa5a00"
      },
      "source": [
        "grid_knn.best_params_"
      ],
      "execution_count": 188,
      "outputs": [
        {
          "output_type": "execute_result",
          "data": {
            "text/plain": [
              "{'knn__metric': 'manhattan', 'knn__n_neighbors': 10, 'knn__weights': 'uniform'}"
            ]
          },
          "metadata": {},
          "execution_count": 188
        }
      ]
    },
    {
      "cell_type": "code",
      "metadata": {
        "colab": {
          "base_uri": "https://localhost:8080/"
        },
        "id": "RL7uc60ylPjM",
        "outputId": "725f1f73-7282-4a86-8da9-8188abd819e7"
      },
      "source": [
        "grid_knn.best_score_"
      ],
      "execution_count": 189,
      "outputs": [
        {
          "output_type": "execute_result",
          "data": {
            "text/plain": [
              "0.8288935574229692"
            ]
          },
          "metadata": {},
          "execution_count": 189
        }
      ]
    },
    {
      "cell_type": "markdown",
      "metadata": {
        "id": "JDVwoIKilPjM"
      },
      "source": [
        "# Decision Tree"
      ]
    },
    {
      "cell_type": "code",
      "metadata": {
        "id": "PlaQ1_DElPjM"
      },
      "source": [
        "from sklearn.tree import DecisionTreeClassifier"
      ],
      "execution_count": 111,
      "outputs": []
    },
    {
      "cell_type": "code",
      "metadata": {
        "id": "W-1kxzoSlPjM"
      },
      "source": [
        "pipe_dt = Pipeline([('pre',PreProcess()),('dt',DecisionTreeClassifier())])"
      ],
      "execution_count": 112,
      "outputs": []
    },
    {
      "cell_type": "code",
      "metadata": {
        "id": "8CSe5vaNlPjM"
      },
      "source": [
        "param_dt = {'dt__criterion':[\"gini\", \"entropy\"],'dt__max_depth':[1,2,3,4,5,6,7,8],\n",
        "            'dt__min_samples_split':[1,2,3,4,5],\n",
        "            'dt__min_samples_leaf':[1,2,3,4,5,6],\n",
        "            'dt__class_weight':[\"balanced\",None]}"
      ],
      "execution_count": 113,
      "outputs": []
    },
    {
      "cell_type": "code",
      "metadata": {
        "id": "bGLHJPmwlPjO"
      },
      "source": [
        "grid_dt= GridSearchCV(pipe_dt,param_grid=param_dt)"
      ],
      "execution_count": 114,
      "outputs": []
    },
    {
      "cell_type": "code",
      "metadata": {
        "colab": {
          "base_uri": "https://localhost:8080/"
        },
        "id": "uJTSn0o_lPjO",
        "outputId": "eb372c9d-437b-4050-fab5-341f79523227"
      },
      "source": [
        "grid_dt.fit(X_train,y_train)"
      ],
      "execution_count": 115,
      "outputs": [
        {
          "output_type": "execute_result",
          "data": {
            "text/plain": [
              "GridSearchCV(cv=None, error_score=nan,\n",
              "             estimator=Pipeline(memory=None,\n",
              "                                steps=[('pre', PreProcess()),\n",
              "                                       ('dt',\n",
              "                                        DecisionTreeClassifier(ccp_alpha=0.0,\n",
              "                                                               class_weight=None,\n",
              "                                                               criterion='gini',\n",
              "                                                               max_depth=None,\n",
              "                                                               max_features=None,\n",
              "                                                               max_leaf_nodes=None,\n",
              "                                                               min_impurity_decrease=0.0,\n",
              "                                                               min_impurity_split=None,\n",
              "                                                               min_samples_leaf=1,\n",
              "                                                               min_samples_split=2,\n",
              "                                                               min_weight_fraction_leaf=0.0,\n",
              "                                                               preso...\n",
              "                                                               random_state=None,\n",
              "                                                               splitter='best'))],\n",
              "                                verbose=False),\n",
              "             iid='deprecated', n_jobs=None,\n",
              "             param_grid={'dt__class_weight': ['balanced', None],\n",
              "                         'dt__criterion': ['gini', 'entropy'],\n",
              "                         'dt__max_depth': [1, 2, 3, 4, 5, 6, 7, 8],\n",
              "                         'dt__min_samples_leaf': [1, 2, 3, 4, 5, 6],\n",
              "                         'dt__min_samples_split': [1, 2, 3, 4, 5]},\n",
              "             pre_dispatch='2*n_jobs', refit=True, return_train_score=False,\n",
              "             scoring=None, verbose=0)"
            ]
          },
          "metadata": {},
          "execution_count": 115
        }
      ]
    },
    {
      "cell_type": "code",
      "metadata": {
        "colab": {
          "base_uri": "https://localhost:8080/"
        },
        "id": "NQXCELAylPjP",
        "outputId": "b7da40c3-a3d4-4d94-bb68-0c873fae4bb2"
      },
      "source": [
        "grid_dt.best_params_"
      ],
      "execution_count": 116,
      "outputs": [
        {
          "output_type": "execute_result",
          "data": {
            "text/plain": [
              "{'dt__class_weight': None,\n",
              " 'dt__criterion': 'entropy',\n",
              " 'dt__max_depth': 7,\n",
              " 'dt__min_samples_leaf': 5,\n",
              " 'dt__min_samples_split': 2}"
            ]
          },
          "metadata": {},
          "execution_count": 116
        }
      ]
    },
    {
      "cell_type": "code",
      "metadata": {
        "colab": {
          "base_uri": "https://localhost:8080/"
        },
        "id": "eGlz1X75lPjP",
        "outputId": "27080ebc-9587-4f24-9f98-80accbaa19c0"
      },
      "source": [
        "grid_dt.best_score_"
      ],
      "execution_count": 117,
      "outputs": [
        {
          "output_type": "execute_result",
          "data": {
            "text/plain": [
              "0.8204901960784312"
            ]
          },
          "metadata": {},
          "execution_count": 117
        }
      ]
    },
    {
      "cell_type": "markdown",
      "metadata": {
        "id": "vmvUHg81lPjP"
      },
      "source": [
        "# Random Forest"
      ]
    },
    {
      "cell_type": "code",
      "metadata": {
        "id": "ywdRvufwlPjQ"
      },
      "source": [
        "from sklearn.ensemble import RandomForestClassifier"
      ],
      "execution_count": 118,
      "outputs": []
    },
    {
      "cell_type": "code",
      "metadata": {
        "id": "q8fSyhMQlPjQ"
      },
      "source": [
        "pipe_rf = Pipeline([('pre',PreProcess()),('rf',RandomForestClassifier(random_state=42))])"
      ],
      "execution_count": 119,
      "outputs": []
    },
    {
      "cell_type": "code",
      "metadata": {
        "id": "cD6tWB7vlPjQ"
      },
      "source": [
        "param_rf = {'rf__criterion':[\"gini\", \"entropy\"],'rf__max_depth':[1,2,3,4,5,6,7,8],\n",
        "            'rf__min_samples_split':[1,2,3,4,5],\n",
        "            'rf__min_samples_leaf':[1,2,3,4,5,6],\n",
        "            'rf__class_weight':[\"balanced\",None],\n",
        "            'rf__n_estimators':[50,100,150]}"
      ],
      "execution_count": 120,
      "outputs": []
    },
    {
      "cell_type": "code",
      "metadata": {
        "id": "XUYbI4F1lPjR"
      },
      "source": [
        "grid_rf = GridSearchCV(pipe_rf,param_grid=param_rf)"
      ],
      "execution_count": 121,
      "outputs": []
    },
    {
      "cell_type": "code",
      "metadata": {
        "id": "wLMjhxGslPjS",
        "colab": {
          "base_uri": "https://localhost:8080/"
        },
        "outputId": "e12249a0-fe8b-4e7b-b199-41812ad56898"
      },
      "source": [
        "grid_rf.fit(X_train,y_train)"
      ],
      "execution_count": 122,
      "outputs": [
        {
          "output_type": "execute_result",
          "data": {
            "text/plain": [
              "GridSearchCV(cv=None, error_score=nan,\n",
              "             estimator=Pipeline(memory=None,\n",
              "                                steps=[('pre', PreProcess()),\n",
              "                                       ('rf',\n",
              "                                        RandomForestClassifier(bootstrap=True,\n",
              "                                                               ccp_alpha=0.0,\n",
              "                                                               class_weight=None,\n",
              "                                                               criterion='gini',\n",
              "                                                               max_depth=None,\n",
              "                                                               max_features='auto',\n",
              "                                                               max_leaf_nodes=None,\n",
              "                                                               max_samples=None,\n",
              "                                                               min_impurity_decrease=0.0,\n",
              "                                                               min_impurity_split=None,\n",
              "                                                               min_samples_leaf=1,\n",
              "                                                               min_samples_split=2,...\n",
              "                                verbose=False),\n",
              "             iid='deprecated', n_jobs=None,\n",
              "             param_grid={'rf__class_weight': ['balanced', None],\n",
              "                         'rf__criterion': ['gini', 'entropy'],\n",
              "                         'rf__max_depth': [1, 2, 3, 4, 5, 6, 7, 8],\n",
              "                         'rf__min_samples_leaf': [1, 2, 3, 4, 5, 6],\n",
              "                         'rf__min_samples_split': [1, 2, 3, 4, 5],\n",
              "                         'rf__n_estimators': [50, 100, 150]},\n",
              "             pre_dispatch='2*n_jobs', refit=True, return_train_score=False,\n",
              "             scoring=None, verbose=0)"
            ]
          },
          "metadata": {},
          "execution_count": 122
        }
      ]
    },
    {
      "cell_type": "code",
      "metadata": {
        "colab": {
          "base_uri": "https://localhost:8080/"
        },
        "id": "7GFRLHX52iBS",
        "outputId": "d82aa4d1-945e-4b6d-80e8-a9d007c29240"
      },
      "source": [
        "grid_rf.best_params_"
      ],
      "execution_count": 123,
      "outputs": [
        {
          "output_type": "execute_result",
          "data": {
            "text/plain": [
              "{'rf__class_weight': None,\n",
              " 'rf__criterion': 'entropy',\n",
              " 'rf__max_depth': 8,\n",
              " 'rf__min_samples_leaf': 1,\n",
              " 'rf__min_samples_split': 2,\n",
              " 'rf__n_estimators': 50}"
            ]
          },
          "metadata": {},
          "execution_count": 123
        }
      ]
    },
    {
      "cell_type": "code",
      "metadata": {
        "colab": {
          "base_uri": "https://localhost:8080/"
        },
        "id": "BNCBsDbI2ldM",
        "outputId": "c15e1178-4e79-4e3a-ef9c-f385a80bab74"
      },
      "source": [
        "grid_rf.best_score_"
      ],
      "execution_count": 124,
      "outputs": [
        {
          "output_type": "execute_result",
          "data": {
            "text/plain": [
              "0.8473809523809525"
            ]
          },
          "metadata": {},
          "execution_count": 124
        }
      ]
    },
    {
      "cell_type": "markdown",
      "metadata": {
        "id": "HSHhVIAX5Kp_"
      },
      "source": [
        "# Adaptive Boosting"
      ]
    },
    {
      "cell_type": "code",
      "metadata": {
        "id": "XvEJ-odKlPjT"
      },
      "source": [
        "from sklearn.ensemble import AdaBoostClassifier"
      ],
      "execution_count": 125,
      "outputs": []
    },
    {
      "cell_type": "code",
      "metadata": {
        "id": "CBl5csk95O_A"
      },
      "source": [
        "pipe_ab = Pipeline([('pre',PreProcess()),('ab',AdaBoostClassifier(random_state=42))])"
      ],
      "execution_count": 126,
      "outputs": []
    },
    {
      "cell_type": "code",
      "metadata": {
        "id": "xtw-PfJ85Wyw"
      },
      "source": [
        "param_ab = {'ab__learning_rate':[.001, 0.01, 0.1, 1, 10, 100],\n",
        "            'ab__n_estimators':[50,100,150]}"
      ],
      "execution_count": 127,
      "outputs": []
    },
    {
      "cell_type": "code",
      "metadata": {
        "id": "ajxUxxDM6-zC"
      },
      "source": [
        "grid_ab = GridSearchCV(pipe_ab,param_grid=param_ab)"
      ],
      "execution_count": 128,
      "outputs": []
    },
    {
      "cell_type": "code",
      "metadata": {
        "colab": {
          "base_uri": "https://localhost:8080/"
        },
        "id": "aFphqoWM7DT5",
        "outputId": "9decc7d3-f3f4-48dd-b36a-9bcace0a80cd"
      },
      "source": [
        "grid_ab.fit(X_train,y_train)"
      ],
      "execution_count": 129,
      "outputs": [
        {
          "output_type": "execute_result",
          "data": {
            "text/plain": [
              "GridSearchCV(cv=None, error_score=nan,\n",
              "             estimator=Pipeline(memory=None,\n",
              "                                steps=[('pre', PreProcess()),\n",
              "                                       ('ab',\n",
              "                                        AdaBoostClassifier(algorithm='SAMME.R',\n",
              "                                                           base_estimator=None,\n",
              "                                                           learning_rate=1.0,\n",
              "                                                           n_estimators=50,\n",
              "                                                           random_state=42))],\n",
              "                                verbose=False),\n",
              "             iid='deprecated', n_jobs=None,\n",
              "             param_grid={'ab__learning_rate': [0.001, 0.01, 0.1, 1, 10, 100],\n",
              "                         'ab__n_estimators': [50, 100, 150]},\n",
              "             pre_dispatch='2*n_jobs', refit=True, return_train_score=False,\n",
              "             scoring=None, verbose=0)"
            ]
          },
          "metadata": {},
          "execution_count": 129
        }
      ]
    },
    {
      "cell_type": "code",
      "metadata": {
        "colab": {
          "base_uri": "https://localhost:8080/"
        },
        "id": "i1VdMts87Gou",
        "outputId": "c59721b6-d307-405e-c219-c25e991c3f7e"
      },
      "source": [
        "grid_ab.best_params_"
      ],
      "execution_count": 130,
      "outputs": [
        {
          "output_type": "execute_result",
          "data": {
            "text/plain": [
              "{'ab__learning_rate': 0.1, 'ab__n_estimators': 100}"
            ]
          },
          "metadata": {},
          "execution_count": 130
        }
      ]
    },
    {
      "cell_type": "code",
      "metadata": {
        "colab": {
          "base_uri": "https://localhost:8080/"
        },
        "id": "srk41-fr7OBP",
        "outputId": "4c6c0277-e94d-4bc6-fdf4-8dfed5d6a447"
      },
      "source": [
        "grid_ab.best_score_"
      ],
      "execution_count": 131,
      "outputs": [
        {
          "output_type": "execute_result",
          "data": {
            "text/plain": [
              "0.812156862745098"
            ]
          },
          "metadata": {},
          "execution_count": 131
        }
      ]
    },
    {
      "cell_type": "markdown",
      "metadata": {
        "id": "eDnAJiCZ8x2v"
      },
      "source": [
        "# Gradient Boosting"
      ]
    },
    {
      "cell_type": "code",
      "metadata": {
        "id": "2sQLYJbE7RI3"
      },
      "source": [
        "from sklearn.ensemble import GradientBoostingClassifier"
      ],
      "execution_count": 132,
      "outputs": []
    },
    {
      "cell_type": "code",
      "metadata": {
        "id": "-J_pDB3j9Z1C"
      },
      "source": [
        "pipe_gb = Pipeline([('pre',PreProcess()),('gb',GradientBoostingClassifier(random_state=42))])"
      ],
      "execution_count": 133,
      "outputs": []
    },
    {
      "cell_type": "code",
      "metadata": {
        "id": "10xNVdI49qL2"
      },
      "source": [
        "param_gb = {'gb__min_samples_split':[1,2,3,4,5],\n",
        "            'gb__min_samples_leaf':[1,2,3,4,5,6],\n",
        "            'gb__n_estimators':[1,2,3,4,5,6,7,8,9,10,20,30,40],\n",
        "            'gb__learning_rate':[.001, 0.01, 0.1, 1, 10, 100]}"
      ],
      "execution_count": 134,
      "outputs": []
    },
    {
      "cell_type": "code",
      "metadata": {
        "id": "tAO2dB8y9-Ak"
      },
      "source": [
        "grid_gb = GridSearchCV(pipe_gb,param_grid=param_gb)"
      ],
      "execution_count": 135,
      "outputs": []
    },
    {
      "cell_type": "code",
      "metadata": {
        "colab": {
          "base_uri": "https://localhost:8080/"
        },
        "id": "HWqRQraM-Efw",
        "outputId": "8551d623-7a46-4e67-a75c-4b3f0b26b9bc"
      },
      "source": [
        "grid_gb.fit(X_train,y_train)"
      ],
      "execution_count": 136,
      "outputs": [
        {
          "output_type": "execute_result",
          "data": {
            "text/plain": [
              "GridSearchCV(cv=None, error_score=nan,\n",
              "             estimator=Pipeline(memory=None,\n",
              "                                steps=[('pre', PreProcess()),\n",
              "                                       ('gb',\n",
              "                                        GradientBoostingClassifier(ccp_alpha=0.0,\n",
              "                                                                   criterion='friedman_mse',\n",
              "                                                                   init=None,\n",
              "                                                                   learning_rate=0.1,\n",
              "                                                                   loss='deviance',\n",
              "                                                                   max_depth=3,\n",
              "                                                                   max_features=None,\n",
              "                                                                   max_leaf_nodes=None,\n",
              "                                                                   min_impurity_decrease=0.0,\n",
              "                                                                   min_impurity_split=None,\n",
              "                                                                   min_samples_leaf=1,\n",
              "                                                                   min_samples_split=2...\n",
              "                                                                   validation_fraction=0.1,\n",
              "                                                                   verbose=0,\n",
              "                                                                   warm_start=False))],\n",
              "                                verbose=False),\n",
              "             iid='deprecated', n_jobs=None,\n",
              "             param_grid={'gb__learning_rate': [0.001, 0.01, 0.1, 1, 10, 100],\n",
              "                         'gb__min_samples_leaf': [1, 2, 3, 4, 5, 6],\n",
              "                         'gb__min_samples_split': [1, 2, 3, 4, 5],\n",
              "                         'gb__n_estimators': [1, 2, 3, 4, 5, 6, 7, 8, 9, 10, 20,\n",
              "                                              30, 40]},\n",
              "             pre_dispatch='2*n_jobs', refit=True, return_train_score=False,\n",
              "             scoring=None, verbose=0)"
            ]
          },
          "metadata": {},
          "execution_count": 136
        }
      ]
    },
    {
      "cell_type": "code",
      "metadata": {
        "colab": {
          "base_uri": "https://localhost:8080/"
        },
        "id": "Zcfyo5p2-GsR",
        "outputId": "9cb786d4-cf3f-4cdf-b63c-605ad5e03ff1"
      },
      "source": [
        "grid_gb.best_params_"
      ],
      "execution_count": 137,
      "outputs": [
        {
          "output_type": "execute_result",
          "data": {
            "text/plain": [
              "{'gb__learning_rate': 0.1,\n",
              " 'gb__min_samples_leaf': 2,\n",
              " 'gb__min_samples_split': 5,\n",
              " 'gb__n_estimators': 30}"
            ]
          },
          "metadata": {},
          "execution_count": 137
        }
      ]
    },
    {
      "cell_type": "code",
      "metadata": {
        "colab": {
          "base_uri": "https://localhost:8080/"
        },
        "id": "1KYmVDZf_uxf",
        "outputId": "0e68a458-9e6e-415b-994b-7cc74adb038a"
      },
      "source": [
        "grid_gb.best_score_"
      ],
      "execution_count": 138,
      "outputs": [
        {
          "output_type": "execute_result",
          "data": {
            "text/plain": [
              "0.820532212885154"
            ]
          },
          "metadata": {},
          "execution_count": 138
        }
      ]
    },
    {
      "cell_type": "markdown",
      "metadata": {
        "id": "fWxy1crTEaXd"
      },
      "source": [
        "# Xgboost"
      ]
    },
    {
      "cell_type": "code",
      "metadata": {
        "id": "U5jDMxNW_w9H"
      },
      "source": [
        "import xgboost"
      ],
      "execution_count": 139,
      "outputs": []
    },
    {
      "cell_type": "code",
      "metadata": {
        "id": "AgZ44QdxEdN3"
      },
      "source": [
        "pipe_xgb = Pipeline([('pre',PreProcess()),('xgb',xgboost.XGBClassifier(random_state=42))])"
      ],
      "execution_count": 140,
      "outputs": []
    },
    {
      "cell_type": "code",
      "metadata": {
        "id": "XBFLDfNPEiWN"
      },
      "source": [
        "param_xgb = {'xgb__min_samples_split':[1,2,3,4,5],\n",
        "            'xgb__min_samples_leaf':[1,2,3,4,5,6],\n",
        "            'xgb__n_estimators':[1,2,3,4,5,6,7,8,9,10,20,30,40],\n",
        "            'xgb__learning_rate':[.001, 0.01, 0.1, 1, 10, 100]}"
      ],
      "execution_count": 141,
      "outputs": []
    },
    {
      "cell_type": "code",
      "metadata": {
        "id": "pqRK93b6EpxM"
      },
      "source": [
        "grid_xgb = GridSearchCV(pipe_xgb,param_grid=param_xgb)"
      ],
      "execution_count": 142,
      "outputs": []
    },
    {
      "cell_type": "code",
      "metadata": {
        "colab": {
          "base_uri": "https://localhost:8080/"
        },
        "id": "_c-Mcy4WEtfs",
        "outputId": "daa15b22-7c04-4a78-fbba-0feef31c8b8b"
      },
      "source": [
        "grid_xgb.fit(X_train,y_train)"
      ],
      "execution_count": 143,
      "outputs": [
        {
          "output_type": "execute_result",
          "data": {
            "text/plain": [
              "GridSearchCV(cv=None, error_score=nan,\n",
              "             estimator=Pipeline(memory=None,\n",
              "                                steps=[('pre', PreProcess()),\n",
              "                                       ('xgb',\n",
              "                                        XGBClassifier(base_score=0.5,\n",
              "                                                      booster='gbtree',\n",
              "                                                      colsample_bylevel=1,\n",
              "                                                      colsample_bynode=1,\n",
              "                                                      colsample_bytree=1,\n",
              "                                                      gamma=0,\n",
              "                                                      learning_rate=0.1,\n",
              "                                                      max_delta_step=0,\n",
              "                                                      max_depth=3,\n",
              "                                                      min_child_weight=1,\n",
              "                                                      missing=None,\n",
              "                                                      n_estimators=100,\n",
              "                                                      n_jobs=1, nthread=None,\n",
              "                                                      objective='binary...\n",
              "                                                      seed=None, silent=None,\n",
              "                                                      subsample=1,\n",
              "                                                      verbosity=1))],\n",
              "                                verbose=False),\n",
              "             iid='deprecated', n_jobs=None,\n",
              "             param_grid={'xgb__learning_rate': [0.001, 0.01, 0.1, 1, 10, 100],\n",
              "                         'xgb__min_samples_leaf': [1, 2, 3, 4, 5, 6],\n",
              "                         'xgb__min_samples_split': [1, 2, 3, 4, 5],\n",
              "                         'xgb__n_estimators': [1, 2, 3, 4, 5, 6, 7, 8, 9, 10,\n",
              "                                               20, 30, 40]},\n",
              "             pre_dispatch='2*n_jobs', refit=True, return_train_score=False,\n",
              "             scoring=None, verbose=0)"
            ]
          },
          "metadata": {},
          "execution_count": 143
        }
      ]
    },
    {
      "cell_type": "code",
      "metadata": {
        "colab": {
          "base_uri": "https://localhost:8080/"
        },
        "id": "H_QntwmUEwdN",
        "outputId": "c68af0cc-e151-4147-ad1f-3067e468a5f4"
      },
      "source": [
        "grid_xgb.best_params_"
      ],
      "execution_count": 144,
      "outputs": [
        {
          "output_type": "execute_result",
          "data": {
            "text/plain": [
              "{'xgb__learning_rate': 0.1,\n",
              " 'xgb__min_samples_leaf': 1,\n",
              " 'xgb__min_samples_split': 1,\n",
              " 'xgb__n_estimators': 40}"
            ]
          },
          "metadata": {},
          "execution_count": 144
        }
      ]
    },
    {
      "cell_type": "code",
      "metadata": {
        "colab": {
          "base_uri": "https://localhost:8080/"
        },
        "id": "EAzpsjJxFZAS",
        "outputId": "ae036a27-a363-4e2e-f64b-2c70af1a6f6f"
      },
      "source": [
        "grid_xgb.best_score_"
      ],
      "execution_count": 145,
      "outputs": [
        {
          "output_type": "execute_result",
          "data": {
            "text/plain": [
              "0.8104621848739496"
            ]
          },
          "metadata": {},
          "execution_count": 145
        }
      ]
    },
    {
      "cell_type": "markdown",
      "metadata": {
        "id": "HpqjND47IbI6"
      },
      "source": [
        "### Submission"
      ]
    },
    {
      "cell_type": "code",
      "metadata": {
        "id": "uV5fpcSiIp43"
      },
      "source": [
        "pipe_svc_tune = Pipeline([('pre',PreProcess()),('svc',SVC(C=10.0,gamma=0.1,random_state=42))])"
      ],
      "execution_count": 196,
      "outputs": []
    },
    {
      "cell_type": "code",
      "metadata": {
        "colab": {
          "base_uri": "https://localhost:8080/"
        },
        "id": "gNHOlK6yFc45",
        "outputId": "4b1c2ca0-77a1-4f87-c658-8e47a88e21c1"
      },
      "source": [
        "pipe_svc_tune.fit(X,y)"
      ],
      "execution_count": 197,
      "outputs": [
        {
          "output_type": "execute_result",
          "data": {
            "text/plain": [
              "Pipeline(memory=None,\n",
              "         steps=[('pre', PreProcess()),\n",
              "                ('svc',\n",
              "                 SVC(C=10.0, break_ties=False, cache_size=200,\n",
              "                     class_weight=None, coef0=0.0,\n",
              "                     decision_function_shape='ovr', degree=3, gamma=0.1,\n",
              "                     kernel='rbf', max_iter=-1, probability=False,\n",
              "                     random_state=42, shrinking=True, tol=0.001,\n",
              "                     verbose=False))],\n",
              "         verbose=False)"
            ]
          },
          "metadata": {},
          "execution_count": 197
        }
      ]
    },
    {
      "cell_type": "code",
      "metadata": {
        "id": "dg8dO2FeIiWw"
      },
      "source": [
        "test_data = pd.read_csv('test.csv')"
      ],
      "execution_count": 198,
      "outputs": []
    },
    {
      "cell_type": "code",
      "metadata": {
        "id": "F028SfsdJJsV"
      },
      "source": [
        "y_submission = pd.DataFrame(pipe_svc_tune.predict(test_data))\n",
        "y_submission.columns = [\"Survived\"]"
      ],
      "execution_count": 199,
      "outputs": []
    },
    {
      "cell_type": "code",
      "metadata": {
        "id": "oBgGzf_XJyxn"
      },
      "source": [
        "submission = pd.concat([test_data,y_submission],axis=1)[[\"PassengerId\",\"Survived\"]]"
      ],
      "execution_count": 200,
      "outputs": []
    },
    {
      "cell_type": "code",
      "metadata": {
        "id": "HL5mtkZTKJiW"
      },
      "source": [
        "submission.to_csv(\"submission5.csv\")"
      ],
      "execution_count": 201,
      "outputs": []
    },
    {
      "cell_type": "code",
      "metadata": {
        "id": "A0qS3cCSZxzW"
      },
      "source": [
        ""
      ],
      "execution_count": null,
      "outputs": []
    }
  ]
}